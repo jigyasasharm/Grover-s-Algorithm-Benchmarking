{
 "cells": [
  {
   "cell_type": "markdown",
   "id": "4ea6a4c2-86c9-474a-b85a-8d2c214191aa",
   "metadata": {},
   "source": [
    "# Problem Set 2 Part b\n",
    "\n",
    "### Due: \n",
    "Collaboration is allowed and encouraged (teams of at most 3).  Please read the syllabus carefully for the guidlines regarding collaboration.  In particular, everyone must write their own solutions in their own words.\n",
    "\n",
    "### Write your collaborators here:\n",
    "\n",
    "$\\renewcommand{\\ket}[1]{\\left|{#1}\\right\\rangle} \\renewcommand{\\bra}[1]{\\left\\langle{#1}\\right|}$\n",
    "$\\renewcommand{\\C}{{\\mathbb{C}}}$\n",
    "$\\renewcommand{\\N}{{\\mathbb{N}}}$\n",
    "$\\renewcommand{\\Z}{{\\mathbb{Z}}}$\n",
    "\n",
    "\n",
    "### Recommended Environment to Run This Notebook\n",
    "\n",
    "We highly recommend that you use the [qBraid](http://www.qbraid.com) platform to run this Jupyter notebook. This supports Qiskit, and furthermore to render your Problem Set solutions to PDF, you have to do the following:\n",
    "\n",
    "1. File > Save and Export Notebook As > HTML\n",
    "2. Save the HTML file somewhere on your local computer\n",
    "3. Open the HTML file using your favorite browser, and Print to PDF. We recommend using Landscape mode so the Python code shows up better."
   ]
  },
  {
   "cell_type": "markdown",
   "id": "9e06fc2d-0a9d-4116-8b2d-fce216e54ce0",
   "metadata": {},
   "source": [
    "### Click here to collapse these cells after running the first two"
   ]
  },
  {
   "cell_type": "markdown",
   "id": "6fc23690-33a0-4fde-85df-c62a4dcdcf17",
   "metadata": {},
   "source": [
    "These commands will install qiskit and the qiskit simulator on the Jupyter environment (we recommend qBraid). It may take a few minutes."
   ]
  },
  {
   "cell_type": "code",
   "execution_count": 2,
   "id": "369d0a21-8dd7-475e-aef8-d7443a394146",
   "metadata": {},
   "outputs": [],
   "source": [
    "!pip install qiskit > /dev/null\n",
    "!pip install qiskit_aer > /dev/null\n",
    "!pip install qiskit_ibm_runtime > /dev/null"
   ]
  },
  {
   "cell_type": "code",
   "execution_count": 3,
   "id": "af785cf1-bdbb-4748-b3b7-c819d3e50ea2",
   "metadata": {},
   "outputs": [],
   "source": [
    "from qiskit import QuantumCircuit, QuantumRegister, ClassicalRegister, transpile\n",
    "from qiskit.visualization import plot_histogram, plot_state_qsphere, plot_distribution \n",
    "from qiskit.result import marginal_distribution\n",
    "\n",
    "from qiskit_aer import AerSimulator\n",
    "from qiskit.providers.jobstatus import JobStatus \n",
    "\n",
    "from qiskit_ibm_runtime import QiskitRuntimeService\n",
    "\n",
    "import numpy as np\n",
    "import random\n",
    "import matplotlib.pyplot as plt\n",
    "import matplotlib.ticker as mticker\n",
    "import os"
   ]
  },
  {
   "cell_type": "code",
   "execution_count": 4,
   "id": "db2a8386-84ca-4f27-b851-fdd41830e4fe",
   "metadata": {},
   "outputs": [],
   "source": [
    "# Simulator Setup\n",
    "shots = 1024\n",
    "backend_sim = AerSimulator()"
   ]
  },
  {
   "cell_type": "code",
   "execution_count": 5,
   "id": "bc9055c3-0c44-45f6-a7e0-ef2a792f2cc4",
   "metadata": {},
   "outputs": [],
   "source": [
    "# helper method for simulator runs\n",
    "def fetch_counts(qc:QuantumCircuit(), backend, shots):\n",
    "    compiled_qc = transpile(qc, backend, optimization_level=0) \n",
    "    job_sim = backend.run(compiled_qc, shots=shots)\n",
    "    results = job_sim.result()\n",
    "    return results.get_counts()"
   ]
  },
  {
   "cell_type": "markdown",
   "id": "acb72bfe-d2a1-4d9a-8a73-d0f37d207031",
   "metadata": {},
   "source": [
    "## Grover's Algorithm"
   ]
  },
  {
   "cell_type": "markdown",
   "id": "03f836ea-3070-4cc3-94de-cdbcc52db442",
   "metadata": {},
   "source": [
    "### Grover's oracle\n",
    "Build a grover's oracle by filling in the following method to try to find the \"solution\" by searching bit strings of length 3 (i.e. the set [000, 111]) to try to find the string \"101\". Note that we chose a string that is symmetric so that we may disregard big endianess and little endianess representations. Use an MCX gate (read more here if needed: https://docs.quantum.ibm.com/api/qiskit/qiskit.circuit.library.MCXGate) targeted on the ancilla qubit with control on the \"input\" qubits or any series of one or two qubit gates. Make sure to reverse any bit-flips or computations so that the \"input\" qubits are reset appropriately."
   ]
  },
  {
   "cell_type": "code",
   "execution_count": 50,
   "id": "4e74be27-bef1-4ac7-a1a5-fa4147934ce4",
   "metadata": {},
   "outputs": [],
   "source": [
    "def grover_unitary() -> QuantumCircuit():\n",
    "    qc = QuantumCircuit(3+1)\n",
    "    ##############################################################################\n",
    "    # your code here \n",
    "    qc.x(1)\n",
    "    qc.mcx([0, 1, 2], 3)\n",
    "    \n",
    "    qc.x(1)\n",
    "    ##############################################################################\n",
    "    return qc "
   ]
  },
  {
   "cell_type": "markdown",
   "id": "52ced445-901e-4d29-85f3-5a92f08580aa",
   "metadata": {},
   "source": [
    "### Grover's Diffuser\n",
    "Build Grover's diffuser by rotating the input qubits out of the hadamard basis bit flipping them and then apply a MCP(multi-control phase) gate with angle $\\pi$ so that it functions as a MCZ gate with target on the last qubit in the \"input\" qubits. Reset everything as appropriate. Note, this does not depend on the oracle and is the same for every Grover's subroutine."
   ]
  },
  {
   "cell_type": "code",
   "execution_count": 51,
   "id": "5c3d0bbe-2f00-4567-80f0-ca7167e936dc",
   "metadata": {},
   "outputs": [],
   "source": [
    "def grover_diffuser() -> QuantumCircuit():\n",
    "    qc = QuantumCircuit(3)\n",
    "    ##############################################################################\n",
    "    # your code here \n",
    "    \n",
    "    # for the diffuser first apply an H gate to all qubits BESIDES the ancilla\n",
    "    qc.h([0, 1, 2])\n",
    "    # then apply X gates to all qubits besides the ancilla\n",
    "    qc.x([0, 1, 2])\n",
    "    # now apply the MCZ gate \n",
    "    #qc.mcp(np.pi, control_qubits, target_qubit) #applies MCZ\n",
    "    qc.mcp(np.pi, [0,1],2)\n",
    "    # undo the X and H gates you applied\n",
    "    qc.x([0, 1, 2])\n",
    "\n",
    "    qc.h([0, 1, 2])\n",
    "        \n",
    "    ##############################################################################\n",
    "    return qc "
   ]
  },
  {
   "cell_type": "markdown",
   "id": "1aa31057-5149-4f1e-81b8-0e71c4f43070",
   "metadata": {},
   "source": [
    "### Grover's Algorithm \n",
    "Calculate the number of iterations of Grover's Algorithm needed for this problem using $k$ iterations calculated by the following equation $k = \\frac{\\pi}{2\\theta} - \\frac{1}{2}$ where $\\theta = 2sin^{-1}\\sqrt{\\frac{m}{N}}$. Then run a circuit for k iterations where k denotes the optimal number of iterations. Plot the histograms of the measurement and compare them with the solution."
   ]
  },
  {
   "cell_type": "code",
   "execution_count": 100,
   "id": "a9ea2cb1-821a-4ab1-99ec-284a62164160",
   "metadata": {},
   "outputs": [
    {
     "data": {
      "text/html": [
       "<pre style=\"word-wrap: normal;white-space: pre;background: #fff0;line-height: 1.1;font-family: &quot;Courier New&quot;,Courier,monospace\">     ┌───┐     ┌─────────┐┌───────────┐┌─┐      \n",
       "q_0: ┤ H ├─────┤0        ├┤0          ├┤M├──────\n",
       "     ├───┤     │         ││           │└╥┘┌─┐   \n",
       "q_1: ┤ H ├─────┤1        ├┤1 Diffuser ├─╫─┤M├───\n",
       "     ├───┤     │  Oracle ││           │ ║ └╥┘┌─┐\n",
       "q_2: ┤ H ├─────┤2        ├┤2          ├─╫──╫─┤M├\n",
       "     ├───┤┌───┐│         │└───────────┘ ║  ║ └╥┘\n",
       "q_3: ┤ X ├┤ H ├┤3        ├──────────────╫──╫──╫─\n",
       "     └───┘└───┘└─────────┘              ║  ║  ║ \n",
       "c: 3/═══════════════════════════════════╩══╩══╩═\n",
       "                                        0  1  2 </pre>"
      ],
      "text/plain": [
       "     ┌───┐     ┌─────────┐┌───────────┐┌─┐      \n",
       "q_0: ┤ H ├─────┤0        ├┤0          ├┤M├──────\n",
       "     ├───┤     │         ││           │└╥┘┌─┐   \n",
       "q_1: ┤ H ├─────┤1        ├┤1 Diffuser ├─╫─┤M├───\n",
       "     ├───┤     │  Oracle ││           │ ║ └╥┘┌─┐\n",
       "q_2: ┤ H ├─────┤2        ├┤2          ├─╫──╫─┤M├\n",
       "     ├───┤┌───┐│         │└───────────┘ ║  ║ └╥┘\n",
       "q_3: ┤ X ├┤ H ├┤3        ├──────────────╫──╫──╫─\n",
       "     └───┘└───┘└─────────┘              ║  ║  ║ \n",
       "c: 3/═══════════════════════════════════╩══╩══╩═\n",
       "                                        0  1  2 "
      ]
     },
     "execution_count": 100,
     "metadata": {},
     "output_type": "execute_result"
    }
   ],
   "source": [
    "solution = \"101\"\n",
    "\n",
    "grover_of = grover_unitary().to_gate()\n",
    "grover_of.name = \"Oracle\"\n",
    "grover_ud = grover_diffuser().to_gate()\n",
    "grover_ud.name = \"Diffuser\"\n",
    "\n",
    "qc_g = QuantumCircuit(3+1,3)\n",
    "##############################################################################\n",
    "# your code here \n",
    "\n",
    "# create the initial superposition by putting the input qubits in |+>\n",
    "# and the ancilla in |->\n",
    "qc_g.h([0, 1, 2])  \n",
    "qc_g.x(3)          \n",
    "qc_g.h(3) \n",
    "\n",
    "# iterate the correct amount of times with the oracle and diffuser\n",
    "# example of how to append the circuits you made earlier\n",
    "qc_g.append(grover_of, range(4))  \n",
    "qc_g.append(grover_ud, range(3))\n",
    "\n",
    "# qc_g.append(grover_uf, range(4))\n",
    "# qc_g.append(grover_ud, range(3))\n",
    "\n",
    "\n",
    "\n",
    "##############################################################################\n",
    "for i in range(3):\n",
    "    qc_g.measure(i, i)\n",
    "\n",
    "qc_g.draw()\n"
   ]
  },
  {
   "cell_type": "code",
   "execution_count": 101,
   "id": "38cfab4b-5a91-4fe6-a1fa-e6221b901d80",
   "metadata": {},
   "outputs": [
    {
     "data": {
      "image/png": "[encoded data removed]",
      "text/plain": [
       "<Figure size 640x480 with 1 Axes>"
      ]
     },
     "execution_count": 101,
     "metadata": {},
     "output_type": "execute_result"
    }
   ],
   "source": [
    "plot_histogram(fetch_counts(qc_g, backend_sim, shots))"
   ]
  },
  {
   "cell_type": "markdown",
   "id": "3346c535-db11-4163-87e0-8a4663194e4f",
   "metadata": {},
   "source": [
    "Above you should have a spike in the histogram at the solution. What would happen if we measured the ancilla as well? "
   ]
  },
  {
   "cell_type": "markdown",
   "id": "85f4c02f-b40b-4ccb-9660-cfd0d3e836cd",
   "metadata": {},
   "source": [
    "## On a Quantum Computer"
   ]
  },
  {
   "cell_type": "markdown",
   "id": "6d304ee2-d92f-4c81-84c2-765c3d333d64",
   "metadata": {},
   "source": [
    "Next we'll run those same circuit you build on an actual quantum computer..."
   ]
  },
  {
   "cell_type": "markdown",
   "id": "1e70ce3d-4b60-4f04-b996-b44b39b3612e",
   "metadata": {},
   "source": [
    "First you will need to go to https://quantum.ibm.com/account and make an account if you don't already have one. Then under profile settings, scroll down to API token and copy and paste it into the token=\"your token here\" section below."
   ]
  },
  {
   "cell_type": "code",
   "execution_count": 102,
   "id": "818514d4-38b7-4cdc-9f33-042d4b47ee2d",
   "metadata": {},
   "outputs": [],
   "source": [
    "service = QiskitRuntimeService(channel=\"ibm_quantum\",\n",
    "                                  token=\"a3d33491bc98b55092cb8100efead39ddb227c493e1b8a1ec539dab57fe5806193a3f444a3e21c7c809a1983b11d3199aa747238f0e98ea30aa1480ef022baca\", \n",
    "                                  )"
   ]
  },
  {
   "cell_type": "code",
   "execution_count": 103,
   "id": "309e9966-b3a9-4963-80bf-bb9165b72c9a",
   "metadata": {},
   "outputs": [
    {
     "data": {
      "text/plain": [
       "[<IBMBackend('ibm_brisbane')>,\n",
       " <IBMBackend('ibm_kyiv')>,\n",
       " <IBMBackend('ibm_sherbrooke')>]"
      ]
     },
     "execution_count": 103,
     "metadata": {},
     "output_type": "execute_result"
    }
   ],
   "source": [
    "service.backends(min_num_qubits=6)"
   ]
  },
  {
   "cell_type": "markdown",
   "id": "faed49df-c37e-46f1-92b5-68ddf8323ff8",
   "metadata": {},
   "source": [
    "Use one of the backends available above. Here's an example using IBM Sherbrooke. Feel free to leave it if it is available for you as well."
   ]
  },
  {
   "cell_type": "code",
   "execution_count": 104,
   "id": "2ce06cd0-a435-4c1c-9e6e-2b8117be6e17",
   "metadata": {},
   "outputs": [],
   "source": [
    "backend_real = service.backend('ibm_brisbane')"
   ]
  },
  {
   "cell_type": "markdown",
   "id": "79a90953-85ad-4cb7-961f-a2ad4cd52c42",
   "metadata": {},
   "source": [
    "Now this next cell will submit the job to be run on IBM's quantum computer running this cell repeatedly may use up all of your available computer time as each token only has 10 minutes per month. When you are ready, run the job. This will take some time so copy and paste the job_id printed down below into the next cell which checks the status of the job."
   ]
  },
  {
   "cell_type": "code",
   "execution_count": 105,
   "id": "854154ff-3ecb-41a7-be46-3a9b043967c8",
   "metadata": {},
   "outputs": [
    {
     "name": "stderr",
     "output_type": "stream",
     "text": [
      "/tmp/ipykernel_237/723272538.py:2: DeprecationWarning: backend.run() and related sessions methods are deprecated  as of qiskit-ibm-runtime 0.23 and will be removed no sooner than 6 months after the release date. More details can be found in the primitives migration guide https://docs.quantum.ibm.com/migration-guides/qiskit-runtime.\n",
      "  job = backend_real.run(compiled_qc_g, shots=shots)\n"
     ]
    },
    {
     "name": "stdout",
     "output_type": "stream",
     "text": [
      "Job ID: cxf2z1wfdnwg008s6ykg\n"
     ]
    }
   ],
   "source": [
    "compiled_qc_g = transpile(qc_g, backend_real, optimization_level=3)\n",
    "job = backend_real.run(compiled_qc_g, shots=shots)\n",
    "\n",
    "print('Job ID:', job.job_id())\n",
    "job_id = job.job_id()"
   ]
  },
  {
   "cell_type": "markdown",
   "id": "9a259308-89b7-415c-aa85-c628aeacdb1b",
   "metadata": {},
   "source": [
    "Run this cell to check the status of the job. "
   ]
  },
  {
   "cell_type": "code",
   "execution_count": 107,
   "id": "75dbaab2-970b-4ba1-8357-9ff32e3eb6ba",
   "metadata": {},
   "outputs": [
    {
     "name": "stderr",
     "output_type": "stream",
     "text": [
      "/tmp/ipykernel_237/30523175.py:2: DeprecationWarning: In a future release of qiskit-ibm-runtime no sooner than 3 months after the release date of 0.30.0, RuntimeJob.status() will be returned as a string instead of an instance of `JobStatus`. To prepare for this change, you can use the idiom `status.name if isinstance(status, JobStatus) else status`.\n",
      "  print(job.status())\n"
     ]
    },
    {
     "name": "stdout",
     "output_type": "stream",
     "text": [
      "JobStatus.DONE\n"
     ]
    }
   ],
   "source": [
    "job = service.job('cxf2z1wfdnwg008s6ykg')\n",
    "print(job.status())"
   ]
  },
  {
   "cell_type": "markdown",
   "id": "f6f59da2-a9a8-42b6-a412-98ccbbc618c1",
   "metadata": {},
   "source": [
    "Once the job has been completed, run the next cell to get the data from it. "
   ]
  },
  {
   "cell_type": "code",
   "execution_count": 108,
   "id": "52e2b378-98e8-46dd-91c6-3f1c7b5c1633",
   "metadata": {},
   "outputs": [
    {
     "data": {
      "image/png": "[encoded data removed]",
      "text/plain": [
       "<Figure size 640x480 with 1 Axes>"
      ]
     },
     "execution_count": 108,
     "metadata": {},
     "output_type": "execute_result"
    }
   ],
   "source": [
    "counts = job.result().get_counts() \n",
    "plot_histogram(counts)"
   ]
  },
  {
   "cell_type": "markdown",
   "id": "effebb99-1514-4a44-9ac5-14be43993b3a",
   "metadata": {},
   "source": [
    "## Benchmarking individual qubits"
   ]
  },
  {
   "cell_type": "markdown",
   "id": "f84227f8-a064-4bb5-9e7d-a35ad8e154f7",
   "metadata": {},
   "source": [
    "In this subproblem, we will benchmark individual qubits on quantum device you just ran on. A typical way to benchmark a qubit is to run a sequence of randomly chosen single-qubit gates $g_1, g_2, ... , g_k$ , and then running the reverse sequence of $g^{−1}_k,...,g^{−1}_1$ so that overall the effect should be the identity. Of course, each gate will incur some noise, so the state of the qubit will drift over time. One can measure the noise by measuring the qubit at the end of the sequence to see if it stayed in the |0⟩ state.\n",
    "\n",
    "You will write code to perform the following: for $k = 10, 20, 30, ... , 100$, for each qubit $q = 0, 1, 2, ... , 4$, pick a sequence of gates $g_1, ... , g_k$ where each $g_i$ is chosen randomly from the gate set\n",
    "${X, Y , Z, H}$. Then, on qubit $q$ run the sequence $(g_i)$ forward and then in reverse, and measure the qubit. Do this 1000 times and calculate the percentage $p_{q,k}$ of times that the qubit $q$ ends back in the |0⟩\n",
    "state.\n",
    "\n",
    "The function benchmark_qubit, requires you to fill in some code, and it returns a QuantumCircuit object. "
   ]
  },
  {
   "cell_type": "code",
   "execution_count": 2,
   "id": "1aea52b1-2711-4488-96a4-07246424218f",
   "metadata": {},
   "outputs": [],
   "source": [
    "'''\n",
    "This function takes as input\n",
    "    -q:qubitnumber0thru4\n",
    "    - k : length of random gate sequence\n",
    "\n",
    "  Returns:\n",
    "    - the QuantumCircuit object corresponding to the circuit\n",
    "'''\n",
    "def benchmark_qubit(q, k):\n",
    "    circ = QuantumCircuit(5, 1)\n",
    "    gates = ['x', 'y', 'z', 'h']\n",
    "    ### WRITE CODE TO GENERATE THE RANDOM SEQUENCE OF LENGTH k, and ITS REVERSAL, ON QUBIT q ####################\n",
    "    sequence = [random.choice(gates) for _ in range(k)]\n",
    "    for gate in sequence:\n",
    "        getattr(circ, gate)(q)\n",
    "    \n",
    "    for gate in reversed(sequence):\n",
    "        getattr(circ, gate)(q)   \n",
    "    ### END CODE BLOCK ###################\n",
    "\n",
    "    # measure qubit q, and store it in classical register [0]\n",
    "    circ.measure([q], [0]) \n",
    "    return circ\n",
    "\n",
    "'''\n",
    "This function takes as input\n",
    "    - job: the Job object corresponding ot a circuit being executed\n",
    "    - blocking: if True this will wait until the circuit results are done executing on the device. \n",
    "               If false, then this will first check the status of the job.\n",
    "\n",
    "  Returns:\n",
    "    - if the job is done, then it returns the counts as a dictionary (e.g., { '0000': 356, '0001': 288, ...})\n",
    "      otherwise if the job is still running or some other status, then it returns None\n",
    "'''\n",
    "\n",
    "def retrieve_job_results(job,blocking=True):\n",
    "    #if it's blocking, then just go ahead and call result()\n",
    "    if blocking:\n",
    "        counts = job.result().get_counts(0) \n",
    "        return counts\n",
    "    else:\n",
    "        #first, check the status job_status = job.status()\n",
    "        if job_status is JobStatus.DONE: \n",
    "            counts = job.result().get_counts(0) \n",
    "            return counts\n",
    "        else:\n",
    "            print(\"The job \",job.job_id,\" has status: \",job_status) \n",
    "            return None\n",
    "\n",
    "\n",
    "'''\n",
    "This function takes as input\n",
    " -q:qubitnumber0thru4\n",
    "    - k : length of random gate sequence\n",
    "    - shots: number of times to run and measure the sequence\n",
    "    - device: the device to run on, either simulated or real\n",
    "\n",
    "  Returns:\n",
    " - the Job object corresponding to the circuit\n",
    "'''\n",
    "\n",
    "def benchmark_qubit_job(q, k, shots, device):\n",
    "    circ = benchmark_qubit(q,k)\n",
    "    compiled_circuit = transpile(circ, device, optimization_level=0) \n",
    "    job = device.run(compiled_circuit, shots=shots)\n",
    "    return job"
   ]
  },
  {
   "cell_type": "markdown",
   "id": "36a58b1f-983e-4141-9f45-63fec3e97d83",
   "metadata": {},
   "source": [
    "Below is code using benchmark_qubit_job , retrieve_job_results to get the measurement counts and calculate pq,k for q = 0, 1, 2, 3, 4 and k = 10, 20, 30, ... , 100. Then, plot pq,k against k (you can consult https://www.geeksforgeeks.org/using-matplotlib-with-jupyter-notebook/ for an example on how to plot graphs). You should have 5 plots in one graph. \n",
    "\n",
    "Warning this cell will also run on the quantum computer so it will also take sometime to run (8-10 hours though most of this is time waiting in queue). It will perform each job and write their job IDs to a file and then read from a file. IF at any point this process gets interupted you can rerun the cell and the code will use the output file to pick up where it left off. Do not modify the output file. There may be some depreciation warnings."
   ]
  },
  {
   "cell_type": "code",
   "execution_count": 110,
   "id": "38f81f2b-b775-4f5f-b450-7c91440eae87",
   "metadata": {},
   "outputs": [
    {
     "data": {
      "image/png": "[encoded data removed]",
      "text/plain": [
       "<Figure size 640x480 with 1 Axes>"
      ]
     },
     "metadata": {},
     "output_type": "display_data"
    }
   ],
   "source": [
    "def output_helper(job_id: str) -> int:\n",
    "    filename = \"output.txt\"\n",
    "    \n",
    "    if not os.path.exists(filename):\n",
    "        with open(filename, \"w\") as f:\n",
    "            f.write(new_line_content)\n",
    "    else:\n",
    "        if job_id != '':\n",
    "            with open(filename, \"a\") as f:\n",
    "                f.write(str(job_id) + '\\n')\n",
    "            print(f\"Appended a new line {job_id} to {filename}.\")\n",
    "\n",
    "    with open(filename, \"r\") as f:\n",
    "        lines = f.readlines()\n",
    "    \n",
    "    return len(lines)\n",
    "\n",
    "def read_output(line_number: int) -> str:\n",
    "    filename = \"output.txt\"\n",
    "    with open(filename, \"r\") as f:\n",
    "        lines = f.readlines()\n",
    "        if 0 <= line_number < len(lines):\n",
    "            return lines[line_number].rstrip('\\n')\n",
    "        else:\n",
    "            return None\n",
    "    \n",
    "\n",
    "k_counts = []\n",
    "k_groups = [10, 20, 30, 40, 50, 60, 70, 80, 90, 100] \n",
    "qubits = [0, 1, 2, 3, 4]\n",
    "p_qk = [[],[],[],[],[]]\n",
    "\n",
    "index = f\"{output_helper(''):02d}\" # reads the num of jobs processed\n",
    "index_q = int(str(index)[0])\n",
    "index_k = int(str(index)[1])\n",
    "index = int(index)\n",
    "for i in range(index_q, len(qubits)):\n",
    "    q = qubits[i]\n",
    "    for j in range(index_k, len(k_groups)):\n",
    "        k = k_groups[j]\n",
    "        output_helper(benchmark_qubit_job(q, k, 1000, backend_real).job_id())\n",
    "        retrieve_job_results(service.job(read_output(index)))\n",
    "        index += 1\n",
    "\n",
    "index = 0\n",
    "for q in qubits: # runs 5 times\n",
    "    q_count = []\n",
    "    for k in k_groups: # runs 10 times\n",
    "        job = service.job(read_output(index))\n",
    "        q_count.append(job.result().get_counts()) \n",
    "        index += 1\n",
    "        \n",
    "    k_counts.append(q_count) \n",
    "\n",
    "for q in qubits:\n",
    "    for i in range(len(k_groups)):\n",
    "        p_qk[q].append(1 - k_counts[q][i]['0']/1000)\n",
    "\n",
    "    plt.plot(k_groups, p_qk[q], label=f'q={q}')\n",
    "plt.xlabel('$k$')\n",
    "plt.ylabel('Chance of Error')\n",
    "plt.title('Percentage of Error returned after k gates') \n",
    "plt.legend()\n",
    "plt.show()"
   ]
  },
  {
   "cell_type": "markdown",
   "id": "cd0dd8b9-6cf3-48d1-bf9b-c1ba263661c3",
   "metadata": {},
   "source": [
    "### Estimating single qubit gate noise"
   ]
  },
  {
   "cell_type": "markdown",
   "id": "31e3710a-3c85-4aba-b59c-d8a469367183",
   "metadata": {},
   "source": [
    "For each qubit q, find a best function f(k) (linear, quadratic, exponential,...) that fits the plots. For example, if the plot of pqk against k looks linear, then you should come up with parameters a, b such that pqk is close to ak + b. If it looks like exponential decay, then you should find an approximate f(k) = aebk + c for some parameters a, b, c.\n",
    "This function can be used to give a simple model for how noise accumulates on each qubit from single-qubit gates."
   ]
  },
  {
   "cell_type": "markdown",
   "id": "4c9ddd9e-1086-420f-96ef-fc36aa596347",
   "metadata": {},
   "source": [
    "## Benchmarking entanglement generation (optional)"
   ]
  },
  {
   "cell_type": "markdown",
   "id": "ba1d537f-66a0-4921-a3a0-bbbbde29cd6f",
   "metadata": {},
   "source": [
    "Everything below this point is optional but is the same as the single qubit part but now for two entangled qubits.\n",
    "\n",
    "Now we benchmark the quantum computer on more complex circuits that involve entangling gates, which will generally be more noisy than single-qubit gates. For each $r = 2, 3, 4, 5$, let $|ψ_r⟩$ denote the $r$-qubit GHZ state\n",
    "$|0⟩^{⊗r} + |1⟩^{⊗r} /√2 .\n",
    "\n",
    "When $r = 2$, this is simply the EPR pair we know and love. Let $C_r$ denote a circuit that starts with $r$ zeroes and outputs $|ψ_r⟩$.\n",
    "\n",
    "\n",
    "\n",
    "Write code to do the same benchmarking as in the previous problem, except now we perform $C_r$, then $C^{−1}$ then $C_r$, and so on $k$ times. Ideally, all of these circuits would cancel out so measuring all $r$ qubits will yeild zero. However, the gates will be noisy so error will accumulate as $k$ grows larger.\n",
    "Let $p_{rk}$ denote the percentage of times (out of 1000 shots) that doing $C_r$ and $C^{−1}$ for $k$ times yields all zeroes in the $r$ qubits. Plot $p_{rk}$ versus $k$ for $r = 2, 3, 4, 5$ and for $k = 10, 20, 30, ... , 100$. There should be 4 plots on one graph.\n",
    "\n",
    "*Important:* The real device you chose has very particular connectivity of qubits which you can find here: https://quantum.ibm.com/services/resources\n",
    "\n",
    "You can only apply 2-qubit gates between the connected nodes. For exampe, you can apply a CNOT between qubits 3 and 1, but not 3 and 2. Thus, when coding your circuit $C_r$, you may want to judiciously choose which $r$ qubits you use to maximize the performance. The darker shading of a qubit means lower noise rate."
   ]
  },
  {
   "cell_type": "code",
   "execution_count": 11,
   "id": "c4cd2d78-2b10-4b4b-bf4b-080083d5508e",
   "metadata": {},
   "outputs": [],
   "source": [
    "!pip install qiskit > /dev/null\n",
    "!pip install qiskit_aer > /dev/null\n",
    "!pip install qiskit_ibm_runtime > /dev/null"
   ]
  },
  {
   "cell_type": "code",
   "execution_count": 12,
   "id": "f7aa1394-e4a6-4b51-a933-dc5c3449c09a",
   "metadata": {},
   "outputs": [],
   "source": [
    "from qiskit import QuantumCircuit, QuantumRegister, ClassicalRegister, transpile\n",
    "from qiskit.visualization import plot_histogram, plot_state_qsphere, plot_distribution \n",
    "from qiskit.result import marginal_distribution\n",
    "\n",
    "from qiskit_aer import AerSimulator\n",
    "from qiskit.providers.jobstatus import JobStatus \n",
    "\n",
    "from qiskit_ibm_runtime import QiskitRuntimeService\n",
    "\n",
    "import numpy as np\n",
    "import random\n",
    "import matplotlib.pyplot as plt\n",
    "import matplotlib.ticker as mticker\n",
    "import os"
   ]
  },
  {
   "cell_type": "code",
   "execution_count": 13,
   "id": "c97146cc-cdad-4b64-97e0-4a88777b3565",
   "metadata": {},
   "outputs": [],
   "source": [
    "service = QiskitRuntimeService(channel=\"ibm_quantum\",\n",
    "                                  token=\"a3d33491bc98b55092cb8100efead39ddb227c493e1b8a1ec539dab57fe5806193a3f444a3e21c7c809a1983b11d3199aa747238f0e98ea30aa1480ef022baca\", \n",
    "                                  )"
   ]
  },
  {
   "cell_type": "code",
   "execution_count": 14,
   "id": "c88e2cb9-d260-40eb-b2cb-c5939fe8bdd8",
   "metadata": {},
   "outputs": [
    {
     "data": {
      "text/plain": [
       "[<IBMBackend('ibm_brisbane')>,\n",
       " <IBMBackend('ibm_kyiv')>,\n",
       " <IBMBackend('ibm_sherbrooke')>]"
      ]
     },
     "execution_count": 14,
     "metadata": {},
     "output_type": "execute_result"
    }
   ],
   "source": [
    "service.backends(min_num_qubits=6)"
   ]
  },
  {
   "cell_type": "code",
   "execution_count": 15,
   "id": "1103eb02-7e1f-4af9-95c5-854d59f62683",
   "metadata": {},
   "outputs": [],
   "source": [
    "backend_real = service.backend('ibm_brisbane')"
   ]
  },
  {
   "cell_type": "code",
   "execution_count": 16,
   "id": "6ed8ab81-dacd-4ed5-b64d-434c24a79bb7",
   "metadata": {},
   "outputs": [
    {
     "name": "stderr",
     "output_type": "stream",
     "text": [
      "/tmp/ipykernel_727/4163659343.py:60: DeprecationWarning: backend.run() and related sessions methods are deprecated  as of qiskit-ibm-runtime 0.23 and will be removed no sooner than 6 months after the release date. More details can be found in the primitives migration guide https://docs.quantum.ibm.com/migration-guides/qiskit-runtime.\n",
      "  job = device.run(compiled_circuit,shots=shots)\n"
     ]
    },
    {
     "name": "stdout",
     "output_type": "stream",
     "text": [
      "Appended a new line cxfjzgefdnwg008s8s1g to optionaloutput.txt.\n"
     ]
    },
    {
     "name": "stderr",
     "output_type": "stream",
     "text": [
      "/tmp/ipykernel_727/4163659343.py:60: DeprecationWarning: backend.run() and related sessions methods are deprecated  as of qiskit-ibm-runtime 0.23 and will be removed no sooner than 6 months after the release date. More details can be found in the primitives migration guide https://docs.quantum.ibm.com/migration-guides/qiskit-runtime.\n",
      "  job = device.run(compiled_circuit,shots=shots)\n"
     ]
    },
    {
     "name": "stdout",
     "output_type": "stream",
     "text": [
      "Appended a new line cxfjzmyky7rg0083ttvg to optionaloutput.txt.\n"
     ]
    },
    {
     "name": "stderr",
     "output_type": "stream",
     "text": [
      "/tmp/ipykernel_727/4163659343.py:60: DeprecationWarning: backend.run() and related sessions methods are deprecated  as of qiskit-ibm-runtime 0.23 and will be removed no sooner than 6 months after the release date. More details can be found in the primitives migration guide https://docs.quantum.ibm.com/migration-guides/qiskit-runtime.\n",
      "  job = device.run(compiled_circuit,shots=shots)\n"
     ]
    },
    {
     "name": "stdout",
     "output_type": "stream",
     "text": [
      "Appended a new line cxfjzsfvw7kg008s2210 to optionaloutput.txt.\n"
     ]
    },
    {
     "name": "stderr",
     "output_type": "stream",
     "text": [
      "/tmp/ipykernel_727/4163659343.py:60: DeprecationWarning: backend.run() and related sessions methods are deprecated  as of qiskit-ibm-runtime 0.23 and will be removed no sooner than 6 months after the release date. More details can be found in the primitives migration guide https://docs.quantum.ibm.com/migration-guides/qiskit-runtime.\n",
      "  job = device.run(compiled_circuit,shots=shots)\n"
     ]
    },
    {
     "name": "stdout",
     "output_type": "stream",
     "text": [
      "Appended a new line cxfjzy7gcckg008sakzg to optionaloutput.txt.\n"
     ]
    },
    {
     "name": "stderr",
     "output_type": "stream",
     "text": [
      "/tmp/ipykernel_727/4163659343.py:60: DeprecationWarning: backend.run() and related sessions methods are deprecated  as of qiskit-ibm-runtime 0.23 and will be removed no sooner than 6 months after the release date. More details can be found in the primitives migration guide https://docs.quantum.ibm.com/migration-guides/qiskit-runtime.\n",
      "  job = device.run(compiled_circuit,shots=shots)\n"
     ]
    },
    {
     "name": "stdout",
     "output_type": "stream",
     "text": [
      "Appended a new line cxfk0286t010008cjp60 to optionaloutput.txt.\n"
     ]
    },
    {
     "name": "stderr",
     "output_type": "stream",
     "text": [
      "/tmp/ipykernel_727/4163659343.py:60: DeprecationWarning: backend.run() and related sessions methods are deprecated  as of qiskit-ibm-runtime 0.23 and will be removed no sooner than 6 months after the release date. More details can be found in the primitives migration guide https://docs.quantum.ibm.com/migration-guides/qiskit-runtime.\n",
      "  job = device.run(compiled_circuit,shots=shots)\n"
     ]
    },
    {
     "name": "stdout",
     "output_type": "stream",
     "text": [
      "Appended a new line cxfk06g3ej4g008g1gsg to optionaloutput.txt.\n"
     ]
    },
    {
     "name": "stderr",
     "output_type": "stream",
     "text": [
      "/tmp/ipykernel_727/4163659343.py:60: DeprecationWarning: backend.run() and related sessions methods are deprecated  as of qiskit-ibm-runtime 0.23 and will be removed no sooner than 6 months after the release date. More details can be found in the primitives migration guide https://docs.quantum.ibm.com/migration-guides/qiskit-runtime.\n",
      "  job = device.run(compiled_circuit,shots=shots)\n"
     ]
    },
    {
     "name": "stdout",
     "output_type": "stream",
     "text": [
      "Appended a new line cxfk0b9vw7kg008s226g to optionaloutput.txt.\n"
     ]
    },
    {
     "name": "stderr",
     "output_type": "stream",
     "text": [
      "/tmp/ipykernel_727/4163659343.py:60: DeprecationWarning: backend.run() and related sessions methods are deprecated  as of qiskit-ibm-runtime 0.23 and will be removed no sooner than 6 months after the release date. More details can be found in the primitives migration guide https://docs.quantum.ibm.com/migration-guides/qiskit-runtime.\n",
      "  job = device.run(compiled_circuit,shots=shots)\n"
     ]
    },
    {
     "name": "stdout",
     "output_type": "stream",
     "text": [
      "Appended a new line cxfk5myky7rg0083tw10 to optionaloutput.txt.\n"
     ]
    },
    {
     "name": "stderr",
     "output_type": "stream",
     "text": [
      "/tmp/ipykernel_727/4163659343.py:60: DeprecationWarning: backend.run() and related sessions methods are deprecated  as of qiskit-ibm-runtime 0.23 and will be removed no sooner than 6 months after the release date. More details can be found in the primitives migration guide https://docs.quantum.ibm.com/migration-guides/qiskit-runtime.\n",
      "  job = device.run(compiled_circuit,shots=shots)\n"
     ]
    },
    {
     "name": "stdout",
     "output_type": "stream",
     "text": [
      "Appended a new line cxfk5s7vw7kg008s23bg to optionaloutput.txt.\n"
     ]
    },
    {
     "name": "stderr",
     "output_type": "stream",
     "text": [
      "/tmp/ipykernel_727/4163659343.py:60: DeprecationWarning: backend.run() and related sessions methods are deprecated  as of qiskit-ibm-runtime 0.23 and will be removed no sooner than 6 months after the release date. More details can be found in the primitives migration guide https://docs.quantum.ibm.com/migration-guides/qiskit-runtime.\n",
      "  job = device.run(compiled_circuit,shots=shots)\n"
     ]
    },
    {
     "name": "stdout",
     "output_type": "stream",
     "text": [
      "Appended a new line cxfk5xf6t010008cjqbg to optionaloutput.txt.\n"
     ]
    },
    {
     "name": "stderr",
     "output_type": "stream",
     "text": [
      "/tmp/ipykernel_727/4163659343.py:60: DeprecationWarning: backend.run() and related sessions methods are deprecated  as of qiskit-ibm-runtime 0.23 and will be removed no sooner than 6 months after the release date. More details can be found in the primitives migration guide https://docs.quantum.ibm.com/migration-guides/qiskit-runtime.\n",
      "  job = device.run(compiled_circuit,shots=shots)\n"
     ]
    },
    {
     "name": "stdout",
     "output_type": "stream",
     "text": [
      "Appended a new line cxfk620fdnwg008s8tdg to optionaloutput.txt.\n"
     ]
    },
    {
     "name": "stderr",
     "output_type": "stream",
     "text": [
      "/tmp/ipykernel_727/4163659343.py:60: DeprecationWarning: backend.run() and related sessions methods are deprecated  as of qiskit-ibm-runtime 0.23 and will be removed no sooner than 6 months after the release date. More details can be found in the primitives migration guide https://docs.quantum.ibm.com/migration-guides/qiskit-runtime.\n",
      "  job = device.run(compiled_circuit,shots=shots)\n"
     ]
    },
    {
     "name": "stdout",
     "output_type": "stream",
     "text": [
      "Appended a new line cxfk6606t010008cjqd0 to optionaloutput.txt.\n"
     ]
    },
    {
     "name": "stderr",
     "output_type": "stream",
     "text": [
      "/tmp/ipykernel_727/4163659343.py:60: DeprecationWarning: backend.run() and related sessions methods are deprecated  as of qiskit-ibm-runtime 0.23 and will be removed no sooner than 6 months after the release date. More details can be found in the primitives migration guide https://docs.quantum.ibm.com/migration-guides/qiskit-runtime.\n",
      "  job = device.run(compiled_circuit,shots=shots)\n"
     ]
    },
    {
     "name": "stdout",
     "output_type": "stream",
     "text": [
      "Appended a new line cxfk6a9gcckg008san50 to optionaloutput.txt.\n"
     ]
    },
    {
     "name": "stderr",
     "output_type": "stream",
     "text": [
      "/tmp/ipykernel_727/4163659343.py:60: DeprecationWarning: backend.run() and related sessions methods are deprecated  as of qiskit-ibm-runtime 0.23 and will be removed no sooner than 6 months after the release date. More details can be found in the primitives migration guide https://docs.quantum.ibm.com/migration-guides/qiskit-runtime.\n",
      "  job = device.run(compiled_circuit,shots=shots)\n"
     ]
    },
    {
     "name": "stdout",
     "output_type": "stream",
     "text": [
      "Appended a new line cxfk6f16t010008cjqfg to optionaloutput.txt.\n"
     ]
    },
    {
     "name": "stderr",
     "output_type": "stream",
     "text": [
      "/tmp/ipykernel_727/4163659343.py:60: DeprecationWarning: backend.run() and related sessions methods are deprecated  as of qiskit-ibm-runtime 0.23 and will be removed no sooner than 6 months after the release date. More details can be found in the primitives migration guide https://docs.quantum.ibm.com/migration-guides/qiskit-runtime.\n",
      "  job = device.run(compiled_circuit,shots=shots)\n"
     ]
    },
    {
     "name": "stdout",
     "output_type": "stream",
     "text": [
      "Appended a new line cxfk6kafdnwg008s8tk0 to optionaloutput.txt.\n"
     ]
    },
    {
     "name": "stderr",
     "output_type": "stream",
     "text": [
      "/tmp/ipykernel_727/4163659343.py:60: DeprecationWarning: backend.run() and related sessions methods are deprecated  as of qiskit-ibm-runtime 0.23 and will be removed no sooner than 6 months after the release date. More details can be found in the primitives migration guide https://docs.quantum.ibm.com/migration-guides/qiskit-runtime.\n",
      "  job = device.run(compiled_circuit,shots=shots)\n"
     ]
    },
    {
     "name": "stdout",
     "output_type": "stream",
     "text": [
      "Appended a new line cxfk6qjvw7kg008s23jg to optionaloutput.txt.\n"
     ]
    },
    {
     "name": "stderr",
     "output_type": "stream",
     "text": [
      "/tmp/ipykernel_727/4163659343.py:60: DeprecationWarning: backend.run() and related sessions methods are deprecated  as of qiskit-ibm-runtime 0.23 and will be removed no sooner than 6 months after the release date. More details can be found in the primitives migration guide https://docs.quantum.ibm.com/migration-guides/qiskit-runtime.\n",
      "  job = device.run(compiled_circuit,shots=shots)\n"
     ]
    },
    {
     "name": "stdout",
     "output_type": "stream",
     "text": [
      "Appended a new line cxfk6vv6t010008cjqkg to optionaloutput.txt.\n"
     ]
    },
    {
     "name": "stderr",
     "output_type": "stream",
     "text": [
      "/tmp/ipykernel_727/4163659343.py:60: DeprecationWarning: backend.run() and related sessions methods are deprecated  as of qiskit-ibm-runtime 0.23 and will be removed no sooner than 6 months after the release date. More details can be found in the primitives migration guide https://docs.quantum.ibm.com/migration-guides/qiskit-runtime.\n",
      "  job = device.run(compiled_circuit,shots=shots)\n"
     ]
    },
    {
     "name": "stdout",
     "output_type": "stream",
     "text": [
      "Appended a new line cxfk70w6t010008cjqng to optionaloutput.txt.\n"
     ]
    },
    {
     "name": "stderr",
     "output_type": "stream",
     "text": [
      "/tmp/ipykernel_727/4163659343.py:60: DeprecationWarning: backend.run() and related sessions methods are deprecated  as of qiskit-ibm-runtime 0.23 and will be removed no sooner than 6 months after the release date. More details can be found in the primitives migration guide https://docs.quantum.ibm.com/migration-guides/qiskit-runtime.\n",
      "  job = device.run(compiled_circuit,shots=shots)\n"
     ]
    },
    {
     "name": "stdout",
     "output_type": "stream",
     "text": [
      "Appended a new line cxfk75cgcckg008san9g to optionaloutput.txt.\n"
     ]
    },
    {
     "name": "stderr",
     "output_type": "stream",
     "text": [
      "/tmp/ipykernel_727/4163659343.py:60: DeprecationWarning: backend.run() and related sessions methods are deprecated  as of qiskit-ibm-runtime 0.23 and will be removed no sooner than 6 months after the release date. More details can be found in the primitives migration guide https://docs.quantum.ibm.com/migration-guides/qiskit-runtime.\n",
      "  job = device.run(compiled_circuit,shots=shots)\n"
     ]
    },
    {
     "name": "stdout",
     "output_type": "stream",
     "text": [
      "Appended a new line cxfk7a5vw7kg008s23rg to optionaloutput.txt.\n"
     ]
    },
    {
     "name": "stderr",
     "output_type": "stream",
     "text": [
      "/tmp/ipykernel_727/4163659343.py:60: DeprecationWarning: backend.run() and related sessions methods are deprecated  as of qiskit-ibm-runtime 0.23 and will be removed no sooner than 6 months after the release date. More details can be found in the primitives migration guide https://docs.quantum.ibm.com/migration-guides/qiskit-runtime.\n",
      "  job = device.run(compiled_circuit,shots=shots)\n"
     ]
    },
    {
     "name": "stdout",
     "output_type": "stream",
     "text": [
      "Appended a new line cxfk7ex3ej4g008g1j7g to optionaloutput.txt.\n"
     ]
    },
    {
     "name": "stderr",
     "output_type": "stream",
     "text": [
      "/tmp/ipykernel_727/4163659343.py:60: DeprecationWarning: backend.run() and related sessions methods are deprecated  as of qiskit-ibm-runtime 0.23 and will be removed no sooner than 6 months after the release date. More details can be found in the primitives migration guide https://docs.quantum.ibm.com/migration-guides/qiskit-runtime.\n",
      "  job = device.run(compiled_circuit,shots=shots)\n"
     ]
    },
    {
     "name": "stdout",
     "output_type": "stream",
     "text": [
      "Appended a new line cxfk7k6fdnwg008s8tp0 to optionaloutput.txt.\n"
     ]
    },
    {
     "name": "stderr",
     "output_type": "stream",
     "text": [
      "/tmp/ipykernel_727/4163659343.py:60: DeprecationWarning: backend.run() and related sessions methods are deprecated  as of qiskit-ibm-runtime 0.23 and will be removed no sooner than 6 months after the release date. More details can be found in the primitives migration guide https://docs.quantum.ibm.com/migration-guides/qiskit-runtime.\n",
      "  job = device.run(compiled_circuit,shots=shots)\n"
     ]
    },
    {
     "name": "stdout",
     "output_type": "stream",
     "text": [
      "Appended a new line cxfk7qy3ej4g008g1j8g to optionaloutput.txt.\n"
     ]
    },
    {
     "name": "stderr",
     "output_type": "stream",
     "text": [
      "/tmp/ipykernel_727/4163659343.py:60: DeprecationWarning: backend.run() and related sessions methods are deprecated  as of qiskit-ibm-runtime 0.23 and will be removed no sooner than 6 months after the release date. More details can be found in the primitives migration guide https://docs.quantum.ibm.com/migration-guides/qiskit-runtime.\n",
      "  job = device.run(compiled_circuit,shots=shots)\n"
     ]
    },
    {
     "name": "stdout",
     "output_type": "stream",
     "text": [
      "Appended a new line cxfk7y73ej4g008g1jb0 to optionaloutput.txt.\n"
     ]
    },
    {
     "name": "stderr",
     "output_type": "stream",
     "text": [
      "/tmp/ipykernel_727/4163659343.py:60: DeprecationWarning: backend.run() and related sessions methods are deprecated  as of qiskit-ibm-runtime 0.23 and will be removed no sooner than 6 months after the release date. More details can be found in the primitives migration guide https://docs.quantum.ibm.com/migration-guides/qiskit-runtime.\n",
      "  job = device.run(compiled_circuit,shots=shots)\n"
     ]
    },
    {
     "name": "stdout",
     "output_type": "stream",
     "text": [
      "Appended a new line cxfk820ky7rg0083twf0 to optionaloutput.txt.\n"
     ]
    },
    {
     "name": "stderr",
     "output_type": "stream",
     "text": [
      "/tmp/ipykernel_727/4163659343.py:60: DeprecationWarning: backend.run() and related sessions methods are deprecated  as of qiskit-ibm-runtime 0.23 and will be removed no sooner than 6 months after the release date. More details can be found in the primitives migration guide https://docs.quantum.ibm.com/migration-guides/qiskit-runtime.\n",
      "  job = device.run(compiled_circuit,shots=shots)\n"
     ]
    },
    {
     "name": "stdout",
     "output_type": "stream",
     "text": [
      "Appended a new line cxfk86ggcckg008sanfg to optionaloutput.txt.\n"
     ]
    },
    {
     "name": "stderr",
     "output_type": "stream",
     "text": [
      "/tmp/ipykernel_727/4163659343.py:60: DeprecationWarning: backend.run() and related sessions methods are deprecated  as of qiskit-ibm-runtime 0.23 and will be removed no sooner than 6 months after the release date. More details can be found in the primitives migration guide https://docs.quantum.ibm.com/migration-guides/qiskit-runtime.\n",
      "  job = device.run(compiled_circuit,shots=shots)\n"
     ]
    },
    {
     "name": "stdout",
     "output_type": "stream",
     "text": [
      "Appended a new line cxfk8b16t010008cjqxg to optionaloutput.txt.\n"
     ]
    },
    {
     "name": "stderr",
     "output_type": "stream",
     "text": [
      "/tmp/ipykernel_727/4163659343.py:60: DeprecationWarning: backend.run() and related sessions methods are deprecated  as of qiskit-ibm-runtime 0.23 and will be removed no sooner than 6 months after the release date. More details can be found in the primitives migration guide https://docs.quantum.ibm.com/migration-guides/qiskit-runtime.\n",
      "  job = device.run(compiled_circuit,shots=shots)\n"
     ]
    },
    {
     "name": "stdout",
     "output_type": "stream",
     "text": [
      "Appended a new line cxfk8fs6t010008cjqz0 to optionaloutput.txt.\n"
     ]
    },
    {
     "name": "stderr",
     "output_type": "stream",
     "text": [
      "/tmp/ipykernel_727/4163659343.py:60: DeprecationWarning: backend.run() and related sessions methods are deprecated  as of qiskit-ibm-runtime 0.23 and will be removed no sooner than 6 months after the release date. More details can be found in the primitives migration guide https://docs.quantum.ibm.com/migration-guides/qiskit-runtime.\n",
      "  job = device.run(compiled_circuit,shots=shots)\n"
     ]
    },
    {
     "name": "stdout",
     "output_type": "stream",
     "text": [
      "Appended a new line cxfk8mjvw7kg008s2420 to optionaloutput.txt.\n"
     ]
    },
    {
     "name": "stderr",
     "output_type": "stream",
     "text": [
      "/tmp/ipykernel_727/4163659343.py:60: DeprecationWarning: backend.run() and related sessions methods are deprecated  as of qiskit-ibm-runtime 0.23 and will be removed no sooner than 6 months after the release date. More details can be found in the primitives migration guide https://docs.quantum.ibm.com/migration-guides/qiskit-runtime.\n",
      "  job = device.run(compiled_circuit,shots=shots)\n"
     ]
    },
    {
     "name": "stdout",
     "output_type": "stream",
     "text": [
      "Appended a new line cxfk8sb3ej4g008g1jfg to optionaloutput.txt.\n"
     ]
    },
    {
     "name": "stderr",
     "output_type": "stream",
     "text": [
      "/tmp/ipykernel_727/4163659343.py:60: DeprecationWarning: backend.run() and related sessions methods are deprecated  as of qiskit-ibm-runtime 0.23 and will be removed no sooner than 6 months after the release date. More details can be found in the primitives migration guide https://docs.quantum.ibm.com/migration-guides/qiskit-runtime.\n",
      "  job = device.run(compiled_circuit,shots=shots)\n"
     ]
    },
    {
     "name": "stdout",
     "output_type": "stream",
     "text": [
      "Appended a new line cxfk8ybvw7kg008s245g to optionaloutput.txt.\n"
     ]
    },
    {
     "name": "stderr",
     "output_type": "stream",
     "text": [
      "/tmp/ipykernel_727/4163659343.py:60: DeprecationWarning: backend.run() and related sessions methods are deprecated  as of qiskit-ibm-runtime 0.23 and will be removed no sooner than 6 months after the release date. More details can be found in the primitives migration guide https://docs.quantum.ibm.com/migration-guides/qiskit-runtime.\n",
      "  job = device.run(compiled_circuit,shots=shots)\n"
     ]
    },
    {
     "name": "stdout",
     "output_type": "stream",
     "text": [
      "Appended a new line cxfk92cfdnwg008s8tyg to optionaloutput.txt.\n"
     ]
    },
    {
     "name": "stderr",
     "output_type": "stream",
     "text": [
      "/tmp/ipykernel_727/4163659343.py:60: DeprecationWarning: backend.run() and related sessions methods are deprecated  as of qiskit-ibm-runtime 0.23 and will be removed no sooner than 6 months after the release date. More details can be found in the primitives migration guide https://docs.quantum.ibm.com/migration-guides/qiskit-runtime.\n",
      "  job = device.run(compiled_circuit,shots=shots)\n"
     ]
    },
    {
     "name": "stdout",
     "output_type": "stream",
     "text": [
      "Appended a new line cxfk96mvw7kg008s2490 to optionaloutput.txt.\n"
     ]
    },
    {
     "name": "stderr",
     "output_type": "stream",
     "text": [
      "/tmp/ipykernel_727/4163659343.py:60: DeprecationWarning: backend.run() and related sessions methods are deprecated  as of qiskit-ibm-runtime 0.23 and will be removed no sooner than 6 months after the release date. More details can be found in the primitives migration guide https://docs.quantum.ibm.com/migration-guides/qiskit-runtime.\n",
      "  job = device.run(compiled_circuit,shots=shots)\n"
     ]
    },
    {
     "name": "stdout",
     "output_type": "stream",
     "text": [
      "Appended a new line cxfk9bdky7rg0083twqg to optionaloutput.txt.\n"
     ]
    },
    {
     "name": "stderr",
     "output_type": "stream",
     "text": [
      "/tmp/ipykernel_727/4163659343.py:60: DeprecationWarning: backend.run() and related sessions methods are deprecated  as of qiskit-ibm-runtime 0.23 and will be removed no sooner than 6 months after the release date. More details can be found in the primitives migration guide https://docs.quantum.ibm.com/migration-guides/qiskit-runtime.\n",
      "  job = device.run(compiled_circuit,shots=shots)\n"
     ]
    },
    {
     "name": "stdout",
     "output_type": "stream",
     "text": [
      "Appended a new line cxfk9fxfdnwg008s8v1g to optionaloutput.txt.\n"
     ]
    },
    {
     "name": "stderr",
     "output_type": "stream",
     "text": [
      "/tmp/ipykernel_727/4163659343.py:60: DeprecationWarning: backend.run() and related sessions methods are deprecated  as of qiskit-ibm-runtime 0.23 and will be removed no sooner than 6 months after the release date. More details can be found in the primitives migration guide https://docs.quantum.ibm.com/migration-guides/qiskit-runtime.\n",
      "  job = device.run(compiled_circuit,shots=shots)\n"
     ]
    },
    {
     "name": "stdout",
     "output_type": "stream",
     "text": [
      "Appended a new line cxfk9ny6t010008cjr7g to optionaloutput.txt.\n"
     ]
    },
    {
     "name": "stderr",
     "output_type": "stream",
     "text": [
      "/tmp/ipykernel_727/4163659343.py:60: DeprecationWarning: backend.run() and related sessions methods are deprecated  as of qiskit-ibm-runtime 0.23 and will be removed no sooner than 6 months after the release date. More details can be found in the primitives migration guide https://docs.quantum.ibm.com/migration-guides/qiskit-runtime.\n",
      "  job = device.run(compiled_circuit,shots=shots)\n"
     ]
    },
    {
     "name": "stdout",
     "output_type": "stream",
     "text": [
      "Appended a new line cxfk9tfky7rg0083twt0 to optionaloutput.txt.\n"
     ]
    },
    {
     "name": "stderr",
     "output_type": "stream",
     "text": [
      "/tmp/ipykernel_727/4163659343.py:60: DeprecationWarning: backend.run() and related sessions methods are deprecated  as of qiskit-ibm-runtime 0.23 and will be removed no sooner than 6 months after the release date. More details can be found in the primitives migration guide https://docs.quantum.ibm.com/migration-guides/qiskit-runtime.\n",
      "  job = device.run(compiled_circuit,shots=shots)\n"
     ]
    },
    {
     "name": "stdout",
     "output_type": "stream",
     "text": [
      "Appended a new line cxfk9z7gcckg008sanxg to optionaloutput.txt.\n"
     ]
    },
    {
     "name": "stderr",
     "output_type": "stream",
     "text": [
      "/tmp/ipykernel_727/4163659343.py:60: DeprecationWarning: backend.run() and related sessions methods are deprecated  as of qiskit-ibm-runtime 0.23 and will be removed no sooner than 6 months after the release date. More details can be found in the primitives migration guide https://docs.quantum.ibm.com/migration-guides/qiskit-runtime.\n",
      "  job = device.run(compiled_circuit,shots=shots)\n"
     ]
    },
    {
     "name": "stdout",
     "output_type": "stream",
     "text": [
      "Appended a new line cxfka406t010008cjrc0 to optionaloutput.txt.\n"
     ]
    },
    {
     "name": "stderr",
     "output_type": "stream",
     "text": [
      "/tmp/ipykernel_727/4163659343.py:60: DeprecationWarning: backend.run() and related sessions methods are deprecated  as of qiskit-ibm-runtime 0.23 and will be removed no sooner than 6 months after the release date. More details can be found in the primitives migration guide https://docs.quantum.ibm.com/migration-guides/qiskit-runtime.\n",
      "  job = device.run(compiled_circuit,shots=shots)\n"
     ]
    },
    {
     "name": "stdout",
     "output_type": "stream",
     "text": [
      "Appended a new line cxfkaa1gcckg008sap00 to optionaloutput.txt.\n"
     ]
    },
    {
     "data": {
      "image/png": "[encoded data removed]",
      "text/plain": [
       "<Figure size 640x480 with 1 Axes>"
      ]
     },
     "metadata": {},
     "output_type": "display_data"
    }
   ],
   "source": [
    "'''\n",
    " This function takes as input\n",
    " -r:sizeofGHZstate\n",
    "    - k : length of random gate sequence\n",
    "\n",
    "  Returns:\n",
    " - the QuantumCircuit object corresponding to the circuit \n",
    "'''\n",
    "\n",
    "def benchmark_circuit(r, k):\n",
    "    circ = QuantumCircuit(5, r)\n",
    "### WRITE CODE TO GENERATE C_r and its reversal k times ####################\n",
    "    \n",
    "    for _ in range(k):\n",
    "        # Apply Cr (Controlled gates, e.g., CNOT)\n",
    "        for i in range(r-1):\n",
    "            circ.cx(i, i+1)  # CNOT between qubits i and i+1\n",
    "        # Apply C-1 (inverse of Cr)\n",
    "        for i in range(r-1):\n",
    "            circ.cx(i, i+1)        \n",
    "    ### END CODE BLOCK ###################\n",
    "\n",
    "    ### WRITE CODE TO MEASURE AND COMPUTE P_RK #####################\n",
    "    # measure r of the qubits , and store it in the r classical registers\n",
    "    #for example, if r = 3, circ.measure([1,3,4],[0,1,2]) would mean measuring qubits 1,3,4\n",
    " \n",
    "    circ.measure(range(r), range(r))\n",
    "        \n",
    "    ### END CODE BLOCK ###################\n",
    "    return circ\n",
    "    \n",
    "'''\n",
    " This function takes as input\n",
    " -r:sizeofGHZstate\n",
    "    - k : length of random gate sequence\n",
    "    - shots: number of times to run and measure the sequence\n",
    "    - device: the device to run on, either simulated or real\n",
    "\n",
    "  Returns:\n",
    " - the IBMQJob object corresponding to the circuit \n",
    "'''\n",
    "\n",
    "def retrieve_job_results_2(job,blocking=True):\n",
    "    #if it's blocking, then just go ahead and call result()\n",
    "    if blocking:\n",
    "        counts = job.result().get_counts(0) \n",
    "        return counts\n",
    "    else:\n",
    "        #first, check the status job_status = job.status()\n",
    "        if job_status is JobStatus.DONE: \n",
    "            counts = job.result().get_counts(0) \n",
    "            return counts\n",
    "        else:\n",
    "            print(\"The job \",job.job_id,\" has status: \",job_status) \n",
    "            return None\n",
    "\n",
    "def benchmark_circuit_job(r, k, shots, device):\n",
    "    circ = benchmark_circuit(r,k)\n",
    "    compiled_circuit = transpile(circ, device, optimization_level=0) \n",
    "    job = device.run(compiled_circuit,shots=shots)\n",
    "    return job\n",
    "\n",
    "def output_helper_2(job_id: str) -> int:\n",
    "    filename = \"optionaloutput.txt\"\n",
    "    \n",
    "    if not os.path.exists(filename):\n",
    "        with open(filename, \"w\") as f:\n",
    "            f.write(new_line_content)\n",
    "    else:\n",
    "        if job_id != '':\n",
    "            with open(filename, \"a\") as f:\n",
    "                f.write(str(job_id) + '\\n')\n",
    "            print(f\"Appended a new line {job_id} to {filename}.\")\n",
    "\n",
    "    with open(filename, \"r\") as f:\n",
    "        lines = f.readlines()\n",
    "    \n",
    "    return len(lines)\n",
    "\n",
    "def read_output_2(line_number: int) -> str:\n",
    "    filename = \"optionaloutput.txt\"\n",
    "    with open(filename, \"r\") as f:\n",
    "        lines = f.readlines()\n",
    "        if 0 <= line_number < len(lines):\n",
    "            return lines[line_number].rstrip('\\n')\n",
    "        else:\n",
    "            return None\n",
    "            \n",
    "k_count = []\n",
    "k_groups = [10, 20, 30, 40, 50, 60, 70, 80, 90, 100] \n",
    "ghzs = [2, 3, 4, 5]\n",
    "p_rk = [[],[],[],[]]\n",
    "\n",
    "index = f\"{output_helper_2(''):02d}\" # reads the num of jobs processed\n",
    "index_q = int(str(index)[0])\n",
    "index_k = int(str(index)[1])\n",
    "index = int(index)\n",
    "for i in range(index_q, len(ghzs)):\n",
    "    q = ghzs[i]\n",
    "    for j in range(index_k, len(k_groups)):\n",
    "        k = k_groups[j]\n",
    "        output_helper_2(benchmark_circuit_job(q, k, 1000, backend_real).job_id())\n",
    "        retrieve_job_results_2(service.job(read_output_2(index)))\n",
    "        index += 1\n",
    "\n",
    "index = 0\n",
    "for q in ghzs: # runs 5 times\n",
    "    q_count = []\n",
    "    for k in k_groups: # runs 10 times\n",
    "        job = service.job(read_output_2(index))\n",
    "        q_count.append(job.result().get_counts()) \n",
    "        index += 1\n",
    "        \n",
    "    k_count.append(q_count) \n",
    "\n",
    "for idx, r in enumerate(ghzs):\n",
    "    for i in range(len(k_groups)):\n",
    "        all_zero_key = '0' * r\n",
    "        p_rk[idx].append(1 - k_count[idx][i].get(all_zero_key, 0)/1000)\n",
    "\n",
    "    plt.plot(k_groups, p_rk[idx], label=f'r={r}')\n",
    "\n",
    "#### END CODE BLOCK ############################################################\n",
    "\n",
    "plt.xlabel('$k$')\n",
    "plt.ylabel('Chance of Error')\n",
    "plt.title('Percentage an Error returned after k GHZ\\'s') \n",
    "plt.legend()\n",
    "plt.show()"
   ]
  },
  {
   "cell_type": "markdown",
   "id": "80cf61bd-e5e5-4faf-afed-99affeeff84b",
   "metadata": {},
   "source": [
    "### Estimating noise of the GHZ circuit\n",
    "\n",
    "For each r = 2, 3, 4, 5 find a best function f(k) (linear, quadratic, exponential,...) that fits the plots.\n",
    "These functions can be used to give a simple model for how noise accumulates at a global level for the GHZ circuit. How much worse is this than the single-qubit gates situation?"
   ]
  },
  {
   "cell_type": "markdown",
   "id": "b21c2540-b712-4058-bee9-4b772bd6c259",
   "metadata": {},
   "source": [
    "### Solution:\n",
    "The noise in the GHZ circuit increases with $k$ and can be modeled by an exponential function:\n",
    "\\\n",
    "$p_{rk}$ = $p_0 e^{-\\alpha k}$\n",
    "\n",
    "where $p_0$ is the initial success rate and \\( \\alpha \\) is a noise parameter. The GHZ circuit accumulates noise faster than single-qubit gates due to entangling gates, which propagate noise across qubits. The noise difference can be expressed as:\n",
    "\\\n",
    "\\$delta$ $p_{r,k} = p_{r,k} - p_{1,k}$\n",
    "\n",
    "\n",
    "indicating that the noise in GHZ circuits grows more rapidly with $r$ and $k$ compared to single-qubit gates.\n",
    "\n",
    "#### Single-Qubit Gates:\n",
    "Noise accumulation is relatively low, with most error rates decreasing (qubits 0 and 4) or staying stable (qubits 1 and 2).\n",
    "The functions are either linear or exponential decay, indicating that noise is more manageable.\n",
    "\n",
    "#### GHZ Circuits:\n",
    "\n",
    "Noise accumulation is significantly higher, especially for larger r.\n",
    "Functions are linear or exponential growth, indicating that entanglement amplifies noise due to its sensitivity to errors across multiple qubits.\n",
    "\n",
    "#### Conclusion:\n",
    "\n",
    "GHZ circuits accumulate noise much faster than single-qubit gates due to their multi-qubit entanglement and the global sensitivity of the state.\n",
    "For r=5, the error rate approaches 1, which is far worse than any single-qubit behavior.\n"
   ]
  },
  {
   "cell_type": "code",
   "execution_count": null,
   "id": "b222dc06-fa41-47d1-8f60-812b67d93639",
   "metadata": {},
   "outputs": [],
   "source": []
  }
 ],
 "metadata": {
  "kernelspec": {
   "display_name": "Python 3 [Default]",
   "language": "python",
   "name": "python3"
  },
  "language_info": {
   "codemirror_mode": {
    "name": "ipython",
    "version": 3
   },
   "file_extension": ".py",
   "mimetype": "text/x-python",
   "name": "python",
   "nbconvert_exporter": "python",
   "pygments_lexer": "ipython3",
   "version": "3.11.9"
  }
 },
 "nbformat": 4,
 "nbformat_minor": 5
}
